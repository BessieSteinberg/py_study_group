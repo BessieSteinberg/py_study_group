{
 "cells": [
  {
   "cell_type": "markdown",
   "metadata": {},
   "source": [
    "# Assignments in Python"
   ]
  },
  {
   "cell_type": "markdown",
   "metadata": {},
   "source": [
    "## Why should I learn about assignments in Python?"
   ]
  },
  {
   "cell_type": "markdown",
   "metadata": {},
   "source": [
    "If you are new to python, understanding how python handles assignments will help create a solid foundation for more complicated subjects later on.  If you are old to python, you may be surprised to find that assignments don't work quite the way you assume.  Have you ever found a list or import to not work as you expected?  It may have been because of a misunderstanding in the way assignments work.  I know I have been tricked by that before!"
   ]
  },
  {
   "cell_type": "code",
   "execution_count": 11,
   "metadata": {},
   "outputs": [],
   "source": [
    "%reload_ext tutormagic"
   ]
  },
  {
   "cell_type": "markdown",
   "metadata": {},
   "source": [
    "## Assignment Basics\n",
    "\n",
    "When we say 'assignment' what we mean is some variable is _assigned_ some value.  Let's look at a very basic example:"
   ]
  },
  {
   "cell_type": "code",
   "execution_count": 7,
   "metadata": {},
   "outputs": [
    {
     "name": "stdout",
     "output_type": "stream",
     "text": [
      "x: 42\n"
     ]
    }
   ],
   "source": [
    "x = 42\n",
    "print(f\"x: {x}\")"
   ]
  },
  {
   "cell_type": "markdown",
   "metadata": {},
   "source": [
    "The variable _named_ `x` is assigned the _value_ `42`.\n",
    "In python, whenever assignment happens, some _name_ points to some _value_.\n",
    "\n",
    "Let's look at a slightly more complicated example.  Before you run it, what would you expect the value of `y` to be?"
   ]
  },
  {
   "cell_type": "code",
   "execution_count": 12,
   "metadata": {},
   "outputs": [
    {
     "data": {
      "text/html": [
       "<div class=\"text-center\"><strong><a style=\"box-sizing: border-box; padding: 0 5px; border: 1px solid #CFCFCF;\" target=\"_\" href=http://pythontutor.com/iframe-embed.html#code=x%20%3D%2042%0Ay%20%3D%20x%0Ax%20%3D%206%0Aprint%28f%22x%3A%20%7Bx%7D%2C%20y%3A%20%7By%7D%22%29%0A&origin=opt-frontend.js&cumulative=false&heapPrimitives=false&textReferences=false&curInstr=0&&verticalStack=false&py=3&rawInputLstJSON=%5B%5D&codeDivWidth=50%25&codeDivHeight=100%25>Python Tutor</a></strong></div>"
      ],
      "text/plain": [
       "<IPython.core.display.HTML object>"
      ]
     },
     "metadata": {},
     "output_type": "display_data"
    }
   ],
   "source": [
    "%%tutor --lang python3 --link\n",
    "x = 42\n",
    "y = x\n",
    "x = 6\n",
    "print(f\"x: {x}, y: {y}\")"
   ]
  },
  {
   "cell_type": "markdown",
   "metadata": {},
   "source": []
  },
  {
   "cell_type": "code",
   "execution_count": null,
   "metadata": {},
   "outputs": [],
   "source": []
  }
 ],
 "metadata": {
  "kernelspec": {
   "display_name": "Python 3",
   "language": "python",
   "name": "python3"
  },
  "language_info": {
   "codemirror_mode": {
    "name": "ipython",
    "version": 3
   },
   "file_extension": ".py",
   "mimetype": "text/x-python",
   "name": "python",
   "nbconvert_exporter": "python",
   "pygments_lexer": "ipython3",
   "version": "3.7.2"
  }
 },
 "nbformat": 4,
 "nbformat_minor": 2
}
